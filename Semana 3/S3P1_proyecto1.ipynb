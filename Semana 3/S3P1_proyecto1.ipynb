{
 "cells": [
  {
   "cell_type": "markdown",
   "metadata": {},
   "source": [
    "![image info](https://raw.githubusercontent.com/davidzarruk/MIAD_ML_NLP_2023/main/images/banner_1.png)"
   ]
  },
  {
   "cell_type": "markdown",
   "metadata": {},
   "source": [
    "# Proyecto 1 - Predicción de precios de vehículos usados\n",
    "\n",
    "En este proyecto podrán poner en práctica sus conocimientos sobre modelos predictivos basados en árboles y ensambles, y sobre la disponibilización de modelos. Para su desasrrollo tengan en cuenta las instrucciones dadas en la \"Guía del proyecto 1: Predicción de precios de vehículos usados\".\n",
    "\n",
    "**Entrega**: La entrega del proyecto deberán realizarla durante la semana 4. Sin embargo, es importante que avancen en la semana 3 en el modelado del problema y en parte del informe, tal y como se les indicó en la guía.\n",
    "\n",
    "Para hacer la entrega, deberán adjuntar el informe autocontenido en PDF a la actividad de entrega del proyecto que encontrarán en la semana 4, y subir el archivo de predicciones a la [competencia de Kaggle](https://www.kaggle.com/t/b8be43cf89c540bfaf3831f2c8506614)."
   ]
  },
  {
   "cell_type": "markdown",
   "metadata": {},
   "source": [
    "## Datos para la predicción de precios de vehículos usados\n",
    "\n",
    "En este proyecto se usará el conjunto de datos de Car Listings de Kaggle, donde cada observación representa el precio de un automóvil teniendo en cuenta distintas variables como: año, marca, modelo, entre otras. El objetivo es predecir el precio del automóvil. Para más detalles puede visitar el siguiente enlace: [datos](https://www.kaggle.com/jpayne/852k-used-car-listings)."
   ]
  },
  {
   "cell_type": "markdown",
   "metadata": {},
   "source": [
    "## Ejemplo predicción conjunto de test para envío a Kaggle\n",
    "\n",
    "En esta sección encontrarán el formato en el que deben guardar los resultados de la predicción para que puedan subirlos a la competencia en Kaggle."
   ]
  },
  {
   "cell_type": "code",
   "execution_count": 1,
   "metadata": {},
   "outputs": [],
   "source": [
    "import warnings\n",
    "warnings.filterwarnings('ignore')"
   ]
  },
  {
   "cell_type": "code",
   "execution_count": 47,
   "metadata": {},
   "outputs": [],
   "source": [
    "# Importación librerías\n",
    "import pandas as pd\n",
    "import numpy as np\n",
    "\n",
    "import matplotlib.pyplot as plt\n",
    "import seaborn as sns\n",
    "\n",
    "from sklearn.model_selection import train_test_split\n",
    "from sklearn.preprocessing import StandardScaler, MinMaxScaler\n",
    "from sklearn.impute import SimpleImputer\n",
    "from sklearn.compose import ColumnTransformer\n",
    "from sklearn.model_selection import GridSearchCV\n",
    "from sklearn.ensemble import RandomForestRegressor\n",
    "from sklearn.metrics import mean_squared_error, r2_score\n",
    "from sklearn.pipeline import Pipeline\n",
    "from sklearn.linear_model import ElasticNet, LinearRegression\n",
    "from sklearn.ensemble import VotingRegressor, StackingRegressor\n",
    "from sklearn.linear_model import Ridge\n",
    "\n",
    "from xgboost import XGBRegressor\n",
    "from category_encoders import TargetEncoder\n",
    "from lightgbm import LGBMRegressor"
   ]
  },
  {
   "cell_type": "code",
   "execution_count": 3,
   "metadata": {},
   "outputs": [],
   "source": [
    "# Carga de datos de archivo .csv\n",
    "dataTraining = pd.read_csv('https://raw.githubusercontent.com/davidzarruk/MIAD_ML_NLP_2023/main/datasets/dataTrain_carListings.zip')\n",
    "dataTesting = pd.read_csv('https://raw.githubusercontent.com/davidzarruk/MIAD_ML_NLP_2023/main/datasets/dataTest_carListings.zip', index_col=0)"
   ]
  },
  {
   "cell_type": "code",
   "execution_count": 4,
   "metadata": {},
   "outputs": [
    {
     "data": {
      "text/html": [
       "<div>\n",
       "<style scoped>\n",
       "    .dataframe tbody tr th:only-of-type {\n",
       "        vertical-align: middle;\n",
       "    }\n",
       "\n",
       "    .dataframe tbody tr th {\n",
       "        vertical-align: top;\n",
       "    }\n",
       "\n",
       "    .dataframe thead th {\n",
       "        text-align: right;\n",
       "    }\n",
       "</style>\n",
       "<table border=\"1\" class=\"dataframe\">\n",
       "  <thead>\n",
       "    <tr style=\"text-align: right;\">\n",
       "      <th></th>\n",
       "      <th>Price</th>\n",
       "      <th>Year</th>\n",
       "      <th>Mileage</th>\n",
       "      <th>State</th>\n",
       "      <th>Make</th>\n",
       "      <th>Model</th>\n",
       "    </tr>\n",
       "  </thead>\n",
       "  <tbody>\n",
       "    <tr>\n",
       "      <th>0</th>\n",
       "      <td>34995</td>\n",
       "      <td>2017</td>\n",
       "      <td>9913</td>\n",
       "      <td>FL</td>\n",
       "      <td>Jeep</td>\n",
       "      <td>Wrangler</td>\n",
       "    </tr>\n",
       "    <tr>\n",
       "      <th>1</th>\n",
       "      <td>37895</td>\n",
       "      <td>2015</td>\n",
       "      <td>20578</td>\n",
       "      <td>OH</td>\n",
       "      <td>Chevrolet</td>\n",
       "      <td>Tahoe4WD</td>\n",
       "    </tr>\n",
       "    <tr>\n",
       "      <th>2</th>\n",
       "      <td>18430</td>\n",
       "      <td>2012</td>\n",
       "      <td>83716</td>\n",
       "      <td>TX</td>\n",
       "      <td>BMW</td>\n",
       "      <td>X5AWD</td>\n",
       "    </tr>\n",
       "    <tr>\n",
       "      <th>3</th>\n",
       "      <td>24681</td>\n",
       "      <td>2014</td>\n",
       "      <td>28729</td>\n",
       "      <td>OH</td>\n",
       "      <td>Cadillac</td>\n",
       "      <td>SRXLuxury</td>\n",
       "    </tr>\n",
       "    <tr>\n",
       "      <th>4</th>\n",
       "      <td>26998</td>\n",
       "      <td>2013</td>\n",
       "      <td>64032</td>\n",
       "      <td>CO</td>\n",
       "      <td>Jeep</td>\n",
       "      <td>Wrangler</td>\n",
       "    </tr>\n",
       "  </tbody>\n",
       "</table>\n",
       "</div>"
      ],
      "text/plain": [
       "   Price  Year  Mileage State       Make      Model\n",
       "0  34995  2017     9913    FL       Jeep   Wrangler\n",
       "1  37895  2015    20578    OH  Chevrolet   Tahoe4WD\n",
       "2  18430  2012    83716    TX        BMW      X5AWD\n",
       "3  24681  2014    28729    OH   Cadillac  SRXLuxury\n",
       "4  26998  2013    64032    CO       Jeep   Wrangler"
      ]
     },
     "execution_count": 4,
     "metadata": {},
     "output_type": "execute_result"
    }
   ],
   "source": [
    "# Visualización datos de entrenamiento\n",
    "dataTraining.head()"
   ]
  },
  {
   "cell_type": "code",
   "execution_count": 5,
   "metadata": {},
   "outputs": [
    {
     "data": {
      "text/html": [
       "<div>\n",
       "<style scoped>\n",
       "    .dataframe tbody tr th:only-of-type {\n",
       "        vertical-align: middle;\n",
       "    }\n",
       "\n",
       "    .dataframe tbody tr th {\n",
       "        vertical-align: top;\n",
       "    }\n",
       "\n",
       "    .dataframe thead th {\n",
       "        text-align: right;\n",
       "    }\n",
       "</style>\n",
       "<table border=\"1\" class=\"dataframe\">\n",
       "  <thead>\n",
       "    <tr style=\"text-align: right;\">\n",
       "      <th></th>\n",
       "      <th>Year</th>\n",
       "      <th>Mileage</th>\n",
       "      <th>State</th>\n",
       "      <th>Make</th>\n",
       "      <th>Model</th>\n",
       "    </tr>\n",
       "    <tr>\n",
       "      <th>ID</th>\n",
       "      <th></th>\n",
       "      <th></th>\n",
       "      <th></th>\n",
       "      <th></th>\n",
       "      <th></th>\n",
       "    </tr>\n",
       "  </thead>\n",
       "  <tbody>\n",
       "    <tr>\n",
       "      <th>0</th>\n",
       "      <td>2014</td>\n",
       "      <td>31909</td>\n",
       "      <td>MD</td>\n",
       "      <td>Nissan</td>\n",
       "      <td>MuranoAWD</td>\n",
       "    </tr>\n",
       "    <tr>\n",
       "      <th>1</th>\n",
       "      <td>2017</td>\n",
       "      <td>5362</td>\n",
       "      <td>FL</td>\n",
       "      <td>Jeep</td>\n",
       "      <td>Wrangler</td>\n",
       "    </tr>\n",
       "    <tr>\n",
       "      <th>2</th>\n",
       "      <td>2014</td>\n",
       "      <td>50300</td>\n",
       "      <td>OH</td>\n",
       "      <td>Ford</td>\n",
       "      <td>FlexLimited</td>\n",
       "    </tr>\n",
       "    <tr>\n",
       "      <th>3</th>\n",
       "      <td>2004</td>\n",
       "      <td>132160</td>\n",
       "      <td>WA</td>\n",
       "      <td>BMW</td>\n",
       "      <td>5</td>\n",
       "    </tr>\n",
       "    <tr>\n",
       "      <th>4</th>\n",
       "      <td>2015</td>\n",
       "      <td>25226</td>\n",
       "      <td>MA</td>\n",
       "      <td>Jeep</td>\n",
       "      <td>Grand</td>\n",
       "    </tr>\n",
       "  </tbody>\n",
       "</table>\n",
       "</div>"
      ],
      "text/plain": [
       "    Year  Mileage State    Make        Model\n",
       "ID                                          \n",
       "0   2014    31909    MD  Nissan    MuranoAWD\n",
       "1   2017     5362    FL    Jeep     Wrangler\n",
       "2   2014    50300    OH    Ford  FlexLimited\n",
       "3   2004   132160    WA     BMW            5\n",
       "4   2015    25226    MA    Jeep        Grand"
      ]
     },
     "execution_count": 5,
     "metadata": {},
     "output_type": "execute_result"
    }
   ],
   "source": [
    "# Visualización datos de test\n",
    "dataTesting.head()"
   ]
  },
  {
   "cell_type": "code",
   "execution_count": 6,
   "metadata": {},
   "outputs": [],
   "source": [
    "# Predicción del conjunto de test - acá se genera un número aleatorio como ejemplo\n",
    "np.random.seed(42)\n",
    "y_pred = pd.DataFrame(np.random.rand(dataTesting.shape[0]) * 75000 + 5000, index=dataTesting.index, columns=['Price'])"
   ]
  },
  {
   "cell_type": "code",
   "execution_count": 7,
   "metadata": {},
   "outputs": [
    {
     "data": {
      "text/html": [
       "<div>\n",
       "<style scoped>\n",
       "    .dataframe tbody tr th:only-of-type {\n",
       "        vertical-align: middle;\n",
       "    }\n",
       "\n",
       "    .dataframe tbody tr th {\n",
       "        vertical-align: top;\n",
       "    }\n",
       "\n",
       "    .dataframe thead th {\n",
       "        text-align: right;\n",
       "    }\n",
       "</style>\n",
       "<table border=\"1\" class=\"dataframe\">\n",
       "  <thead>\n",
       "    <tr style=\"text-align: right;\">\n",
       "      <th></th>\n",
       "      <th>Price</th>\n",
       "    </tr>\n",
       "    <tr>\n",
       "      <th>ID</th>\n",
       "      <th></th>\n",
       "    </tr>\n",
       "  </thead>\n",
       "  <tbody>\n",
       "    <tr>\n",
       "      <th>0</th>\n",
       "      <td>33090.508914</td>\n",
       "    </tr>\n",
       "    <tr>\n",
       "      <th>1</th>\n",
       "      <td>76303.572981</td>\n",
       "    </tr>\n",
       "    <tr>\n",
       "      <th>2</th>\n",
       "      <td>59899.545636</td>\n",
       "    </tr>\n",
       "    <tr>\n",
       "      <th>3</th>\n",
       "      <td>49899.386315</td>\n",
       "    </tr>\n",
       "    <tr>\n",
       "      <th>4</th>\n",
       "      <td>16701.398033</td>\n",
       "    </tr>\n",
       "  </tbody>\n",
       "</table>\n",
       "</div>"
      ],
      "text/plain": [
       "           Price\n",
       "ID              \n",
       "0   33090.508914\n",
       "1   76303.572981\n",
       "2   59899.545636\n",
       "3   49899.386315\n",
       "4   16701.398033"
      ]
     },
     "execution_count": 7,
     "metadata": {},
     "output_type": "execute_result"
    }
   ],
   "source": [
    "# Guardar predicciones en formato exigido en la competencia de kaggle\n",
    "y_pred.to_csv('pred/test_submission.csv', index_label='ID')\n",
    "y_pred.head()"
   ]
  },
  {
   "cell_type": "markdown",
   "metadata": {},
   "source": [
    "### Exploración de datos"
   ]
  },
  {
   "cell_type": "code",
   "execution_count": 8,
   "metadata": {},
   "outputs": [
    {
     "data": {
      "text/html": [
       "<div>\n",
       "<style scoped>\n",
       "    .dataframe tbody tr th:only-of-type {\n",
       "        vertical-align: middle;\n",
       "    }\n",
       "\n",
       "    .dataframe tbody tr th {\n",
       "        vertical-align: top;\n",
       "    }\n",
       "\n",
       "    .dataframe thead th {\n",
       "        text-align: right;\n",
       "    }\n",
       "</style>\n",
       "<table border=\"1\" class=\"dataframe\">\n",
       "  <thead>\n",
       "    <tr style=\"text-align: right;\">\n",
       "      <th></th>\n",
       "      <th>Price</th>\n",
       "      <th>Year</th>\n",
       "      <th>Mileage</th>\n",
       "    </tr>\n",
       "  </thead>\n",
       "  <tbody>\n",
       "    <tr>\n",
       "      <th>count</th>\n",
       "      <td>400000.000000</td>\n",
       "      <td>400000.000000</td>\n",
       "      <td>4.000000e+05</td>\n",
       "    </tr>\n",
       "    <tr>\n",
       "      <th>mean</th>\n",
       "      <td>21146.919312</td>\n",
       "      <td>2013.198125</td>\n",
       "      <td>5.507296e+04</td>\n",
       "    </tr>\n",
       "    <tr>\n",
       "      <th>std</th>\n",
       "      <td>10753.664940</td>\n",
       "      <td>3.292326</td>\n",
       "      <td>4.088102e+04</td>\n",
       "    </tr>\n",
       "    <tr>\n",
       "      <th>min</th>\n",
       "      <td>5001.000000</td>\n",
       "      <td>1997.000000</td>\n",
       "      <td>5.000000e+00</td>\n",
       "    </tr>\n",
       "    <tr>\n",
       "      <th>25%</th>\n",
       "      <td>13499.000000</td>\n",
       "      <td>2012.000000</td>\n",
       "      <td>2.584100e+04</td>\n",
       "    </tr>\n",
       "    <tr>\n",
       "      <th>50%</th>\n",
       "      <td>18450.000000</td>\n",
       "      <td>2014.000000</td>\n",
       "      <td>4.295500e+04</td>\n",
       "    </tr>\n",
       "    <tr>\n",
       "      <th>75%</th>\n",
       "      <td>26999.000000</td>\n",
       "      <td>2016.000000</td>\n",
       "      <td>7.743300e+04</td>\n",
       "    </tr>\n",
       "    <tr>\n",
       "      <th>max</th>\n",
       "      <td>79999.000000</td>\n",
       "      <td>2018.000000</td>\n",
       "      <td>2.457832e+06</td>\n",
       "    </tr>\n",
       "  </tbody>\n",
       "</table>\n",
       "</div>"
      ],
      "text/plain": [
       "               Price           Year       Mileage\n",
       "count  400000.000000  400000.000000  4.000000e+05\n",
       "mean    21146.919312    2013.198125  5.507296e+04\n",
       "std     10753.664940       3.292326  4.088102e+04\n",
       "min      5001.000000    1997.000000  5.000000e+00\n",
       "25%     13499.000000    2012.000000  2.584100e+04\n",
       "50%     18450.000000    2014.000000  4.295500e+04\n",
       "75%     26999.000000    2016.000000  7.743300e+04\n",
       "max     79999.000000    2018.000000  2.457832e+06"
      ]
     },
     "execution_count": 8,
     "metadata": {},
     "output_type": "execute_result"
    }
   ],
   "source": [
    "dataTraining.describe()"
   ]
  },
  {
   "cell_type": "code",
   "execution_count": 9,
   "metadata": {},
   "outputs": [
    {
     "data": {
      "text/html": [
       "<div>\n",
       "<style scoped>\n",
       "    .dataframe tbody tr th:only-of-type {\n",
       "        vertical-align: middle;\n",
       "    }\n",
       "\n",
       "    .dataframe tbody tr th {\n",
       "        vertical-align: top;\n",
       "    }\n",
       "\n",
       "    .dataframe thead th {\n",
       "        text-align: right;\n",
       "    }\n",
       "</style>\n",
       "<table border=\"1\" class=\"dataframe\">\n",
       "  <thead>\n",
       "    <tr style=\"text-align: right;\">\n",
       "      <th></th>\n",
       "      <th>State</th>\n",
       "      <th>Make</th>\n",
       "      <th>Model</th>\n",
       "    </tr>\n",
       "  </thead>\n",
       "  <tbody>\n",
       "    <tr>\n",
       "      <th>count</th>\n",
       "      <td>400000</td>\n",
       "      <td>400000</td>\n",
       "      <td>400000</td>\n",
       "    </tr>\n",
       "    <tr>\n",
       "      <th>unique</th>\n",
       "      <td>51</td>\n",
       "      <td>38</td>\n",
       "      <td>525</td>\n",
       "    </tr>\n",
       "    <tr>\n",
       "      <th>top</th>\n",
       "      <td>TX</td>\n",
       "      <td>Ford</td>\n",
       "      <td>Silverado</td>\n",
       "    </tr>\n",
       "    <tr>\n",
       "      <th>freq</th>\n",
       "      <td>45918</td>\n",
       "      <td>62899</td>\n",
       "      <td>18085</td>\n",
       "    </tr>\n",
       "  </tbody>\n",
       "</table>\n",
       "</div>"
      ],
      "text/plain": [
       "         State    Make      Model\n",
       "count   400000  400000     400000\n",
       "unique      51      38        525\n",
       "top         TX    Ford  Silverado\n",
       "freq     45918   62899      18085"
      ]
     },
     "execution_count": 9,
     "metadata": {},
     "output_type": "execute_result"
    }
   ],
   "source": [
    "dataTraining.describe(include='object')"
   ]
  },
  {
   "cell_type": "code",
   "execution_count": 10,
   "metadata": {},
   "outputs": [
    {
     "name": "stdout",
     "output_type": "stream",
     "text": [
      "<class 'pandas.core.frame.DataFrame'>\n",
      "RangeIndex: 400000 entries, 0 to 399999\n",
      "Data columns (total 6 columns):\n",
      " #   Column   Non-Null Count   Dtype \n",
      "---  ------   --------------   ----- \n",
      " 0   Price    400000 non-null  int64 \n",
      " 1   Year     400000 non-null  int64 \n",
      " 2   Mileage  400000 non-null  int64 \n",
      " 3   State    400000 non-null  object\n",
      " 4   Make     400000 non-null  object\n",
      " 5   Model    400000 non-null  object\n",
      "dtypes: int64(3), object(3)\n",
      "memory usage: 18.3+ MB\n"
     ]
    }
   ],
   "source": [
    "dataTraining.info()"
   ]
  },
  {
   "cell_type": "code",
   "execution_count": 11,
   "metadata": {},
   "outputs": [
    {
     "data": {
      "image/png": "[encoded data removed]",
      "text/plain": [
       "<Figure size 432x288 with 1 Axes>"
      ]
     },
     "metadata": {
      "needs_background": "light"
     },
     "output_type": "display_data"
    },
    {
     "data": {
      "image/png": "[encoded data removed]",
      "text/plain": [
       "<Figure size 432x288 with 1 Axes>"
      ]
     },
     "metadata": {
      "needs_background": "light"
     },
     "output_type": "display_data"
    },
    {
     "data": {
      "image/png": "[encoded data removed]",
      "text/plain": [
       "<Figure size 432x288 with 1 Axes>"
      ]
     },
     "metadata": {
      "needs_background": "light"
     },
     "output_type": "display_data"
    },
    {
     "data": {
      "image/png": "[encoded data removed]",
      "text/plain": [
       "<Figure size 864x432 with 1 Axes>"
      ]
     },
     "metadata": {
      "needs_background": "light"
     },
     "output_type": "display_data"
    },
    {
     "data": {
      "image/png": "[encoded data removed]",
      "text/plain": [
       "<Figure size 864x432 with 1 Axes>"
      ]
     },
     "metadata": {
      "needs_background": "light"
     },
     "output_type": "display_data"
    },
    {
     "data": {
      "image/png": "[encoded data removed]",
      "text/plain": [
       "<Figure size 864x432 with 1 Axes>"
      ]
     },
     "metadata": {
      "needs_background": "light"
     },
     "output_type": "display_data"
    }
   ],
   "source": [
    "# Gráfica de distribución de precios\n",
    "sns.histplot(dataTraining['Price'], kde=True)\n",
    "plt.title('Distribución de precios')\n",
    "plt.show()\n",
    "\n",
    "# Gráfica de distribución de años\n",
    "sns.histplot(dataTraining['Year'], kde=True, bins=range(dataTraining['Year'].min(), dataTraining['Year'].max() + 1))\n",
    "plt.title('Distribución de años')\n",
    "plt.show()\n",
    "\n",
    "# Gráfica de distribución de millas\n",
    "sns.histplot(dataTraining['Mileage'], kde=True)\n",
    "plt.title('Distribución de millas')\n",
    "plt.show()\n",
    "\n",
    "# Gráfico de barras para la columna 'State'\n",
    "plt.figure(figsize=(12, 6))\n",
    "sns.countplot(data=dataTraining, x='State', order=dataTraining['State'].value_counts().index)\n",
    "plt.title('Número de registros por estado')\n",
    "plt.xticks(rotation=45)\n",
    "plt.show()\n",
    "\n",
    "# Gráfico de barras para la columna 'Make'\n",
    "plt.figure(figsize=(12, 6))\n",
    "sns.countplot(data=dataTraining, x='Make', order=dataTraining['Make'].value_counts().index)\n",
    "plt.title('Número de registros por marca')\n",
    "plt.xticks(rotation=45)\n",
    "plt.show()\n",
    "\n",
    "# Gráfico de barras para la columna 'Model'\n",
    "plt.figure(figsize=(12, 6))\n",
    "sns.countplot(data=dataTraining, x='Model', order=dataTraining['Model'].value_counts().iloc[:30].index)\n",
    "plt.title('Número de registros por modelo (top 30)')\n",
    "plt.xticks(rotation=45)\n",
    "plt.show()"
   ]
  },
  {
   "cell_type": "markdown",
   "metadata": {},
   "source": [
    "## 1. Preprocesamiento de datos (10 puntos)"
   ]
  },
  {
   "cell_type": "markdown",
   "metadata": {},
   "source": [
    "* Los datos de entrenamiento se dividen en datos de entrenamiento y validación. Si decidieron preprocesar los datos (estandarizar, normalizar, imputar valores, etc), estos son correctamente preprocesados al ajustar sobre los datos de entrenamiento (.fit_transform()) y al transformar los datos del set de validación (.transform()). (10 puntos)"
   ]
  },
  {
   "cell_type": "code",
   "execution_count": 42,
   "metadata": {},
   "outputs": [],
   "source": [
    "df = dataTraining.copy()\n",
    "dfT = dataTesting.copy()"
   ]
  },
  {
   "cell_type": "code",
   "execution_count": 43,
   "metadata": {},
   "outputs": [],
   "source": [
    "# Separación en datos de entrenamiento y valización \n",
    "X = df.drop(\"Price\", axis=1)\n",
    "y = df[\"Price\"]\n",
    "X_train, X_val, y_train, y_val = train_test_split(X, y, test_size=0.2, random_state=42)\n"
   ]
  },
  {
   "cell_type": "code",
   "execution_count": 46,
   "metadata": {},
   "outputs": [
    {
     "data": {
      "text/html": [
       "<div>\n",
       "<style scoped>\n",
       "    .dataframe tbody tr th:only-of-type {\n",
       "        vertical-align: middle;\n",
       "    }\n",
       "\n",
       "    .dataframe tbody tr th {\n",
       "        vertical-align: top;\n",
       "    }\n",
       "\n",
       "    .dataframe thead th {\n",
       "        text-align: right;\n",
       "    }\n",
       "</style>\n",
       "<table border=\"1\" class=\"dataframe\">\n",
       "  <thead>\n",
       "    <tr style=\"text-align: right;\">\n",
       "      <th></th>\n",
       "      <th>Year</th>\n",
       "      <th>Mileage</th>\n",
       "      <th>State</th>\n",
       "      <th>Make</th>\n",
       "      <th>Model</th>\n",
       "    </tr>\n",
       "  </thead>\n",
       "  <tbody>\n",
       "    <tr>\n",
       "      <th>242245</th>\n",
       "      <td>2014</td>\n",
       "      <td>40936</td>\n",
       "      <td>23283.783572</td>\n",
       "      <td>18017.040379</td>\n",
       "      <td>28539.053364</td>\n",
       "    </tr>\n",
       "    <tr>\n",
       "      <th>288918</th>\n",
       "      <td>2013</td>\n",
       "      <td>72553</td>\n",
       "      <td>20046.905799</td>\n",
       "      <td>22518.910885</td>\n",
       "      <td>14731.968389</td>\n",
       "    </tr>\n",
       "    <tr>\n",
       "      <th>105103</th>\n",
       "      <td>2016</td>\n",
       "      <td>102704</td>\n",
       "      <td>21320.457005</td>\n",
       "      <td>18017.040379</td>\n",
       "      <td>22105.431578</td>\n",
       "    </tr>\n",
       "    <tr>\n",
       "      <th>63504</th>\n",
       "      <td>2013</td>\n",
       "      <td>62279</td>\n",
       "      <td>20069.285509</td>\n",
       "      <td>36286.968693</td>\n",
       "      <td>36286.968693</td>\n",
       "    </tr>\n",
       "    <tr>\n",
       "      <th>239180</th>\n",
       "      <td>2012</td>\n",
       "      <td>37750</td>\n",
       "      <td>21059.873328</td>\n",
       "      <td>16240.885415</td>\n",
       "      <td>7781.692308</td>\n",
       "    </tr>\n",
       "  </tbody>\n",
       "</table>\n",
       "</div>"
      ],
      "text/plain": [
       "        Year  Mileage         State          Make         Model\n",
       "242245  2014    40936  23283.783572  18017.040379  28539.053364\n",
       "288918  2013    72553  20046.905799  22518.910885  14731.968389\n",
       "105103  2016   102704  21320.457005  18017.040379  22105.431578\n",
       "63504   2013    62279  20069.285509  36286.968693  36286.968693\n",
       "239180  2012    37750  21059.873328  16240.885415   7781.692308"
      ]
     },
     "execution_count": 46,
     "metadata": {},
     "output_type": "execute_result"
    }
   ],
   "source": [
    "# Codificar las variables categóricas utilizando Target Encoding\n",
    "encoder = TargetEncoder(cols=[\"State\", \"Make\", \"Model\"])\n",
    "X_train_encoded = encoder.fit_transform(X_train, y_train)\n",
    "X_val_encoded = encoder.transform(X_val)\n",
    "dfT_encoded = encoder.transform(dfT)\n",
    "X_train_encoded.head()"
   ]
  },
  {
   "cell_type": "code",
   "execution_count": 50,
   "metadata": {},
   "outputs": [
    {
     "data": {
      "text/plain": [
       "array([[ 2.42664721e-01, -3.45436972e-01,  2.32837836e+04,\n",
       "         1.80170404e+04,  2.85390534e+04],\n",
       "       [-6.09840626e-02,  4.26373130e-01,  2.00469058e+04,\n",
       "         2.25189109e+04,  1.47319684e+04],\n",
       "       [ 8.49962288e-01,  1.16239636e+00,  2.13204570e+04,\n",
       "         1.80170404e+04,  2.21054316e+04],\n",
       "       [-6.09840626e-02,  1.75572074e-01,  2.00692855e+04,\n",
       "         3.62869687e+04,  3.62869687e+04],\n",
       "       [-3.64632846e-01, -4.23211175e-01,  2.10598733e+04,\n",
       "         1.62408854e+04,  7.78169231e+03]])"
      ]
     },
     "execution_count": 50,
     "metadata": {},
     "output_type": "execute_result"
    }
   ],
   "source": [
    "# Crear un pipeline de preprocesamiento para estandarizar los datos numéricos\n",
    "numeric_features = [\"Year\", \"Mileage\"]\n",
    "numeric_transformer = Pipeline(steps=[\n",
    "    ('imputer', SimpleImputer(strategy='median')),\n",
    "    ('scaler', StandardScaler())])\n",
    "\n",
    "preprocessor = ColumnTransformer(\n",
    "    transformers=[\n",
    "        ('num', numeric_transformer, numeric_features)],\n",
    "    remainder='passthrough')\n",
    "\n",
    "# Aplicar el preprocesamiento en los conjuntos de entrenamiento y validación\n",
    "X_train_processed = preprocessor.fit_transform(X_train_encoded)\n",
    "X_val_processed = preprocessor.transform(X_val_encoded)\n",
    "dfT_processed = preprocessor.transform(dfT_encoded)\n",
    "\n",
    "X_train_processed[:5]"
   ]
  },
  {
   "cell_type": "markdown",
   "metadata": {},
   "source": [
    "## 2. Calibración del modelo (15 puntos)"
   ]
  },
  {
   "attachments": {},
   "cell_type": "markdown",
   "metadata": {},
   "source": [
    "### 2.1. Se calibran los parámetros que se consideren pertinentes del modelo de clasificación seleccionado. (5 puntos)\n",
    "\n"
   ]
  },
  {
   "cell_type": "code",
   "execution_count": 51,
   "metadata": {},
   "outputs": [],
   "source": [
    "def save_pred(model, file_name, dfT_i):\n",
    "    y_pred = pd.DataFrame(model.predict(dfT_i), index=dataTesting.index, columns=['Price'])\n",
    "    y_pred.to_csv(f'pred/{ file_name }.csv', index_label='ID')"
   ]
  },
  {
   "cell_type": "code",
   "execution_count": 69,
   "metadata": {},
   "outputs": [],
   "source": [
    "def mape(y_true, y_pred):\n",
    "    return np.mean(np.abs((y_true - y_pred) / y_true)) * 100\n",
    "\n",
    "def evaluate_model(model, X_val, name, mape_only=False):\n",
    "    mse = None\n",
    "    r2 = None\n",
    "\n",
    "    y_pred = model.predict(X_val)\n",
    "    mape_m = mape(y_val, y_pred)\n",
    "    \n",
    "    if mape_only:\n",
    "        mse = mean_squared_error(y_val, y_pred)\n",
    "        r2 =  r2_score(y_val, y_pred)        \n",
    "\n",
    "    measures_dic = {\n",
    "        'Name': name,\n",
    "        'MAPE': mape_m,\n",
    "        'MSE': mse,        \n",
    "        'R2': r2\n",
    "    }\n",
    "\n",
    "    return measures_dic"
   ]
  },
  {
   "attachments": {},
   "cell_type": "markdown",
   "metadata": {},
   "source": [
    "#### 2.1.1. Modelos a evaluar"
   ]
  },
  {
   "cell_type": "code",
   "execution_count": 45,
   "metadata": {},
   "outputs": [
    {
     "data": {
      "text/plain": [
       "LGBMRegressor(random_state=42)"
      ]
     },
     "execution_count": 45,
     "metadata": {},
     "output_type": "execute_result"
    }
   ],
   "source": [
    "# Crear y evaluar diferentes modelos de regresión\n",
    "linear_regresion = LinearRegression()\n",
    "elastic_net = ElasticNet(random_state=42)\n",
    "random_forest = RandomForestRegressor(random_state=42)\n",
    "xgboost = XGBRegressor(random_state=42)\n",
    "lightgbm = LGBMRegressor(random_state=42)\n",
    "\n",
    "linear_regresion.fit(X_train_processed, y_train)\n",
    "elastic_net.fit(X_train_processed, y_train)\n",
    "random_forest.fit(X_train_processed, y_train)\n",
    "xgboost.fit(X_train_processed, y_train, eval_set=[(X_val_processed, y_val)], verbose=False)\n",
    "lightgbm.fit(X_train_processed, y_train)"
   ]
  },
  {
   "attachments": {},
   "cell_type": "markdown",
   "metadata": {},
   "source": [
    "### 2.2. Se justifica el método seleccionado de calibración. (5 puntos)"
   ]
  },
  {
   "cell_type": "code",
   "execution_count": 72,
   "metadata": {},
   "outputs": [
    {
     "data": {
      "text/html": [
       "<div>\n",
       "<style scoped>\n",
       "    .dataframe tbody tr th:only-of-type {\n",
       "        vertical-align: middle;\n",
       "    }\n",
       "\n",
       "    .dataframe tbody tr th {\n",
       "        vertical-align: top;\n",
       "    }\n",
       "\n",
       "    .dataframe thead th {\n",
       "        text-align: right;\n",
       "    }\n",
       "</style>\n",
       "<table border=\"1\" class=\"dataframe\">\n",
       "  <thead>\n",
       "    <tr style=\"text-align: right;\">\n",
       "      <th></th>\n",
       "      <th>Name</th>\n",
       "      <th>MAPE</th>\n",
       "      <th>MSE</th>\n",
       "      <th>R2</th>\n",
       "    </tr>\n",
       "  </thead>\n",
       "  <tbody>\n",
       "    <tr>\n",
       "      <th>2</th>\n",
       "      <td>RandomForestRegressor</td>\n",
       "      <td>11.901445</td>\n",
       "      <td>1.441879e+07</td>\n",
       "      <td>0.875373</td>\n",
       "    </tr>\n",
       "    <tr>\n",
       "      <th>3</th>\n",
       "      <td>XGBRegressor</td>\n",
       "      <td>13.087607</td>\n",
       "      <td>1.451549e+07</td>\n",
       "      <td>0.874537</td>\n",
       "    </tr>\n",
       "    <tr>\n",
       "      <th>4</th>\n",
       "      <td>LGBMRegressor</td>\n",
       "      <td>17.026311</td>\n",
       "      <td>2.078658e+07</td>\n",
       "      <td>0.820333</td>\n",
       "    </tr>\n",
       "    <tr>\n",
       "      <th>0</th>\n",
       "      <td>LinearRegression</td>\n",
       "      <td>38.053727</td>\n",
       "      <td>8.285155e+07</td>\n",
       "      <td>0.283882</td>\n",
       "    </tr>\n",
       "    <tr>\n",
       "      <th>1</th>\n",
       "      <td>ElasticNet</td>\n",
       "      <td>40.417445</td>\n",
       "      <td>8.717967e+07</td>\n",
       "      <td>0.246472</td>\n",
       "    </tr>\n",
       "  </tbody>\n",
       "</table>\n",
       "</div>"
      ],
      "text/plain": [
       "                    Name       MAPE           MSE        R2\n",
       "2  RandomForestRegressor  11.901445  1.441879e+07  0.875373\n",
       "3           XGBRegressor  13.087607  1.451549e+07  0.874537\n",
       "4          LGBMRegressor  17.026311  2.078658e+07  0.820333\n",
       "0       LinearRegression  38.053727  8.285155e+07  0.283882\n",
       "1             ElasticNet  40.417445  8.717967e+07  0.246472"
      ]
     },
     "execution_count": 72,
     "metadata": {},
     "output_type": "execute_result"
    }
   ],
   "source": [
    "models = [linear_regresion, elastic_net, random_forest, xgboost, lightgbm]\n",
    "models_metrics = []\n",
    "for m in models:\n",
    "    name = m.__class__.__name__\n",
    "    model_m = evaluate_model(m, X_val_processed, name)\n",
    "    models_metrics.append(model_m)\n",
    "\n",
    "pd.DataFrame(models_metrics).sort_values('MAPE')"
   ]
  },
  {
   "attachments": {},
   "cell_type": "markdown",
   "metadata": {},
   "source": [
    "> Se selecciona RandomForestRegressor, XGBRegressor y LGBMRegressor para el siguiente etapa ya que sus métricas son significativamente mejores que las de LinearRegression y ElasticNet"
   ]
  },
  {
   "attachments": {},
   "cell_type": "markdown",
   "metadata": {},
   "source": [
    "#### 2.2.1. Staking y Voting"
   ]
  },
  {
   "cell_type": "code",
   "execution_count": null,
   "metadata": {},
   "outputs": [],
   "source": [
    "# Voting Regressor\n",
    "voting_regressor = VotingRegressor(estimators=[\n",
    "    ('random_forest', random_forest),\n",
    "    ('xgboost', xgboost),\n",
    "    ('lightgbm', lightgbm)\n",
    "])\n",
    "voting_regressor.fit(X_train_processed, y_train)\n",
    "\n"
   ]
  },
  {
   "cell_type": "code",
   "execution_count": 73,
   "metadata": {},
   "outputs": [
    {
     "data": {
      "text/plain": [
       "{'Name': 'Voting',\n",
       " 'MAPE': 12.896743421817785,\n",
       " 'MSE': 14164919.809560632,\n",
       " 'R2': 0.8775670381913894}"
      ]
     },
     "execution_count": 73,
     "metadata": {},
     "output_type": "execute_result"
    }
   ],
   "source": [
    "evaluate_model(voting_regressor, X_val_processed, 'Voting')"
   ]
  },
  {
   "cell_type": "code",
   "execution_count": null,
   "metadata": {},
   "outputs": [],
   "source": [
    "# Stacking Regressor\n",
    "stacking_regressor1 = StackingRegressor(\n",
    "    estimators=[\n",
    "        ('linear_regresion', linear_regresion),\n",
    "        ('elastic_net', elastic_net),\n",
    "        ('random_forest', random_forest),\n",
    "        ('xgboost', xgboost),\n",
    "        ('lightgbm', lightgbm)\n",
    "    ],\n",
    "    final_estimator=Ridge()\n",
    ")\n",
    "stacking_regressor1.fit(X_train_processed, y_train)\n",
    "\n"
   ]
  },
  {
   "cell_type": "code",
   "execution_count": 74,
   "metadata": {},
   "outputs": [
    {
     "data": {
      "text/plain": [
       "{'Name': 'Stacking',\n",
       " 'MAPE': 11.629656672191677,\n",
       " 'MSE': 12999140.588607851,\n",
       " 'R2': 0.8876433255798889}"
      ]
     },
     "execution_count": 74,
     "metadata": {},
     "output_type": "execute_result"
    }
   ],
   "source": [
    "evaluate_model(stacking_regressor1, X_val_processed, 'Stacking')"
   ]
  },
  {
   "cell_type": "code",
   "execution_count": 64,
   "metadata": {},
   "outputs": [],
   "source": [
    "save_pred(stacking_regressor1, 'staking_all models', dfT_processed)"
   ]
  },
  {
   "cell_type": "code",
   "execution_count": 76,
   "metadata": {},
   "outputs": [
    {
     "data": {
      "text/plain": [
       "{'Name': 'Stacking',\n",
       " 'MAPE': 11.609277333070857,\n",
       " 'MSE': 13003220.351046275,\n",
       " 'R2': 0.8876080625917798}"
      ]
     },
     "execution_count": 76,
     "metadata": {},
     "output_type": "execute_result"
    }
   ],
   "source": [
    "# Stacking Regressor\n",
    "stacking_regressor = StackingRegressor(\n",
    "    estimators=[\n",
    "        ('random_forest', random_forest),\n",
    "        ('xgboost', xgboost),\n",
    "        ('lightgbm', lightgbm)\n",
    "    ],\n",
    "    final_estimator=Ridge()\n",
    ")\n",
    "stacking_regressor.fit(X_train_processed, y_train)\n",
    "\n",
    "evaluate_model(stacking_regressor, X_val_processed, 'Stacking')"
   ]
  },
  {
   "cell_type": "code",
   "execution_count": 57,
   "metadata": {},
   "outputs": [],
   "source": [
    "save_pred(stacking_regressor, 'xgb_staking', dfT_processed)"
   ]
  },
  {
   "attachments": {},
   "cell_type": "markdown",
   "metadata": {},
   "source": [
    "evaluar xgboost"
   ]
  },
  {
   "cell_type": "code",
   "execution_count": null,
   "metadata": {},
   "outputs": [],
   "source": [
    "xgboost2 = XGBRegressor(n_estimators=1000, learning_rate=0.05, random_state=42)\n",
    "xgboost2.fit(X_train_processed, y_train,\n",
    "          early_stopping_rounds=10,\n",
    "          eval_set=[(X_val_processed, y_val)],\n",
    "          verbose=False)\n",
    "\n"
   ]
  },
  {
   "cell_type": "code",
   "execution_count": 75,
   "metadata": {},
   "outputs": [
    {
     "data": {
      "text/plain": [
       "{'Name': 'Xgboost',\n",
       " 'MAPE': 11.7964169279784,\n",
       " 'MSE': 12917228.133612018,\n",
       " 'R2': 0.8883513270800023}"
      ]
     },
     "execution_count": 75,
     "metadata": {},
     "output_type": "execute_result"
    }
   ],
   "source": [
    "evaluate_model(xgboost2, X_val_processed, 'Xgboost')"
   ]
  },
  {
   "cell_type": "code",
   "execution_count": 61,
   "metadata": {},
   "outputs": [],
   "source": [
    "save_pred(xgboost2, 'xgb_TargetEncoder', dfT_processed)"
   ]
  },
  {
   "attachments": {},
   "cell_type": "markdown",
   "metadata": {},
   "source": [
    "### 2.3 Se analizan los valores calibrados de cada parámetro y se explica cómo afectan el modelo. (5 puntos)"
   ]
  },
  {
   "cell_type": "code",
   "execution_count": 105,
   "metadata": {},
   "outputs": [],
   "source": [
    "_x, x_cal, _y, y_cal = train_test_split(X_train_processed, y_train, test_size=0.2, random_state=42)"
   ]
  },
  {
   "cell_type": "code",
   "execution_count": 106,
   "metadata": {},
   "outputs": [],
   "source": [
    "def plot_mape(ranges, mapes, xtitle):\n",
    "    plt.figure(figsize=(12, 6))\n",
    "    sns.lineplot(x=ranges, y=mapes)\n",
    "    plt.xlabel(xtitle)\n",
    "    plt.ylabel('MAPE')\n",
    "    plt.show()\n",
    "\n",
    "def comparate_model_param(model_fn, param, values, X=x_cal, y=y_cal):\n",
    "    mapes = []\n",
    "\n",
    "    for val in values:\n",
    "        model = model_fn(param, val)\n",
    "        print(model)\n",
    "        model.fit(X, y)\n",
    "        y_pred = model.predict(X_val_processed)\n",
    "        \n",
    "        mape_m = mape(y_val, y_pred)\n",
    "        mapes.append(mape_m)\n",
    "\n",
    "    display(pd.DataFrame({param: values, 'MAPE': mapes}).sort_values(by='MAPE').head(10))\n",
    "    plot_mape(values, mapes, param)"
   ]
  },
  {
   "attachments": {},
   "cell_type": "markdown",
   "metadata": {},
   "source": [
    "#### 2.3.1. Calibración de RandomForestRegressor"
   ]
  },
  {
   "attachments": {},
   "cell_type": "markdown",
   "metadata": {},
   "source": [
    "##### 2.3.1.1 Max_depth"
   ]
  },
  {
   "cell_type": "code",
   "execution_count": 89,
   "metadata": {},
   "outputs": [
    {
     "name": "stdout",
     "output_type": "stream",
     "text": [
      "RandomForestRegressor(max_depth=1, random_state=42)\n",
      "RandomForestRegressor(max_depth=2, random_state=42)\n",
      "RandomForestRegressor(max_depth=3, random_state=42)\n",
      "RandomForestRegressor(max_depth=4, random_state=42)\n",
      "RandomForestRegressor(max_depth=5, random_state=42)\n",
      "RandomForestRegressor(max_depth=6, random_state=42)\n",
      "RandomForestRegressor(max_depth=7, random_state=42)\n",
      "RandomForestRegressor(max_depth=8, random_state=42)\n",
      "RandomForestRegressor(max_depth=9, random_state=42)\n",
      "RandomForestRegressor(max_depth=10, random_state=42)\n",
      "RandomForestRegressor(max_depth=11, random_state=42)\n",
      "RandomForestRegressor(max_depth=12, random_state=42)\n",
      "RandomForestRegressor(max_depth=13, random_state=42)\n",
      "RandomForestRegressor(max_depth=14, random_state=42)\n",
      "RandomForestRegressor(max_depth=15, random_state=42)\n",
      "RandomForestRegressor(max_depth=16, random_state=42)\n",
      "RandomForestRegressor(max_depth=17, random_state=42)\n",
      "RandomForestRegressor(max_depth=18, random_state=42)\n",
      "RandomForestRegressor(max_depth=19, random_state=42)\n"
     ]
    },
    {
     "data": {
      "text/html": [
       "<div>\n",
       "<style scoped>\n",
       "    .dataframe tbody tr th:only-of-type {\n",
       "        vertical-align: middle;\n",
       "    }\n",
       "\n",
       "    .dataframe tbody tr th {\n",
       "        vertical-align: top;\n",
       "    }\n",
       "\n",
       "    .dataframe thead th {\n",
       "        text-align: right;\n",
       "    }\n",
       "</style>\n",
       "<table border=\"1\" class=\"dataframe\">\n",
       "  <thead>\n",
       "    <tr style=\"text-align: right;\">\n",
       "      <th></th>\n",
       "      <th>max_depth</th>\n",
       "      <th>MAPE</th>\n",
       "    </tr>\n",
       "  </thead>\n",
       "  <tbody>\n",
       "    <tr>\n",
       "      <th>18</th>\n",
       "      <td>19</td>\n",
       "      <td>12.854942</td>\n",
       "    </tr>\n",
       "    <tr>\n",
       "      <th>17</th>\n",
       "      <td>18</td>\n",
       "      <td>13.364258</td>\n",
       "    </tr>\n",
       "    <tr>\n",
       "      <th>16</th>\n",
       "      <td>17</td>\n",
       "      <td>13.994642</td>\n",
       "    </tr>\n",
       "    <tr>\n",
       "      <th>15</th>\n",
       "      <td>16</td>\n",
       "      <td>14.778871</td>\n",
       "    </tr>\n",
       "    <tr>\n",
       "      <th>14</th>\n",
       "      <td>15</td>\n",
       "      <td>15.678318</td>\n",
       "    </tr>\n",
       "    <tr>\n",
       "      <th>13</th>\n",
       "      <td>14</td>\n",
       "      <td>16.767232</td>\n",
       "    </tr>\n",
       "    <tr>\n",
       "      <th>12</th>\n",
       "      <td>13</td>\n",
       "      <td>18.066831</td>\n",
       "    </tr>\n",
       "    <tr>\n",
       "      <th>11</th>\n",
       "      <td>12</td>\n",
       "      <td>19.444365</td>\n",
       "    </tr>\n",
       "    <tr>\n",
       "      <th>10</th>\n",
       "      <td>11</td>\n",
       "      <td>21.183824</td>\n",
       "    </tr>\n",
       "    <tr>\n",
       "      <th>9</th>\n",
       "      <td>10</td>\n",
       "      <td>22.999889</td>\n",
       "    </tr>\n",
       "  </tbody>\n",
       "</table>\n",
       "</div>"
      ],
      "text/plain": [
       "    max_depth       MAPE\n",
       "18         19  12.854942\n",
       "17         18  13.364258\n",
       "16         17  13.994642\n",
       "15         16  14.778871\n",
       "14         15  15.678318\n",
       "13         14  16.767232\n",
       "12         13  18.066831\n",
       "11         12  19.444365\n",
       "10         11  21.183824\n",
       "9          10  22.999889"
      ]
     },
     "metadata": {},
     "output_type": "display_data"
    },
    {
     "data": {
      "image/png": "[encoded data removed]",
      "text/plain": [
       "<Figure size 864x432 with 1 Axes>"
      ]
     },
     "metadata": {
      "needs_background": "light"
     },
     "output_type": "display_data"
    }
   ],
   "source": [
    "model_fn = lambda param, value: RandomForestRegressor(**{param: value}, random_state=42)\n",
    "comparate_model_param(model_fn, 'max_depth', range(1, 20, 1))"
   ]
  },
  {
   "cell_type": "code",
   "execution_count": 99,
   "metadata": {},
   "outputs": [
    {
     "name": "stdout",
     "output_type": "stream",
     "text": [
      "RandomForestRegressor(max_depth=10, random_state=42)\n",
      "RandomForestRegressor(max_depth=20, random_state=42)\n",
      "RandomForestRegressor(max_depth=30, random_state=42)\n",
      "RandomForestRegressor(max_depth=40, random_state=42)\n",
      "RandomForestRegressor(max_depth=50, random_state=42)\n",
      "RandomForestRegressor(max_depth=60, random_state=42)\n",
      "RandomForestRegressor(max_depth=70, random_state=42)\n",
      "RandomForestRegressor(max_depth=80, random_state=42)\n",
      "RandomForestRegressor(max_depth=90, random_state=42)\n"
     ]
    },
    {
     "data": {
      "text/html": [
       "<div>\n",
       "<style scoped>\n",
       "    .dataframe tbody tr th:only-of-type {\n",
       "        vertical-align: middle;\n",
       "    }\n",
       "\n",
       "    .dataframe tbody tr th {\n",
       "        vertical-align: top;\n",
       "    }\n",
       "\n",
       "    .dataframe thead th {\n",
       "        text-align: right;\n",
       "    }\n",
       "</style>\n",
       "<table border=\"1\" class=\"dataframe\">\n",
       "  <thead>\n",
       "    <tr style=\"text-align: right;\">\n",
       "      <th></th>\n",
       "      <th>max_depth</th>\n",
       "      <th>MAPE</th>\n",
       "    </tr>\n",
       "  </thead>\n",
       "  <tbody>\n",
       "    <tr>\n",
       "      <th>4</th>\n",
       "      <td>50</td>\n",
       "      <td>13.100183</td>\n",
       "    </tr>\n",
       "    <tr>\n",
       "      <th>5</th>\n",
       "      <td>60</td>\n",
       "      <td>13.100183</td>\n",
       "    </tr>\n",
       "    <tr>\n",
       "      <th>6</th>\n",
       "      <td>70</td>\n",
       "      <td>13.100183</td>\n",
       "    </tr>\n",
       "    <tr>\n",
       "      <th>7</th>\n",
       "      <td>80</td>\n",
       "      <td>13.100183</td>\n",
       "    </tr>\n",
       "    <tr>\n",
       "      <th>8</th>\n",
       "      <td>90</td>\n",
       "      <td>13.100183</td>\n",
       "    </tr>\n",
       "    <tr>\n",
       "      <th>3</th>\n",
       "      <td>40</td>\n",
       "      <td>13.100600</td>\n",
       "    </tr>\n",
       "    <tr>\n",
       "      <th>2</th>\n",
       "      <td>30</td>\n",
       "      <td>13.101129</td>\n",
       "    </tr>\n",
       "    <tr>\n",
       "      <th>1</th>\n",
       "      <td>20</td>\n",
       "      <td>13.563531</td>\n",
       "    </tr>\n",
       "    <tr>\n",
       "      <th>0</th>\n",
       "      <td>10</td>\n",
       "      <td>22.300680</td>\n",
       "    </tr>\n",
       "  </tbody>\n",
       "</table>\n",
       "</div>"
      ],
      "text/plain": [
       "   max_depth       MAPE\n",
       "4         50  13.100183\n",
       "5         60  13.100183\n",
       "6         70  13.100183\n",
       "7         80  13.100183\n",
       "8         90  13.100183\n",
       "3         40  13.100600\n",
       "2         30  13.101129\n",
       "1         20  13.563531\n",
       "0         10  22.300680"
      ]
     },
     "metadata": {},
     "output_type": "display_data"
    },
    {
     "data": {
      "image/png": "[encoded data removed]",
      "text/plain": [
       "<Figure size 864x432 with 1 Axes>"
      ]
     },
     "metadata": {
      "needs_background": "light"
     },
     "output_type": "display_data"
    }
   ],
   "source": [
    "model_fn = lambda param, value: RandomForestRegressor(**{param: value}, random_state=42)\n",
    "comparate_model_param(model_fn, 'max_depth', range(10, 100, 10))"
   ]
  },
  {
   "cell_type": "code",
   "execution_count": 104,
   "metadata": {},
   "outputs": [
    {
     "name": "stdout",
     "output_type": "stream",
     "text": [
      "RandomForestRegressor(max_depth=30, random_state=42)\n",
      "RandomForestRegressor(max_depth=32, random_state=42)\n",
      "RandomForestRegressor(max_depth=34, random_state=42)\n",
      "RandomForestRegressor(max_depth=36, random_state=42)\n",
      "RandomForestRegressor(max_depth=38, random_state=42)\n",
      "RandomForestRegressor(max_depth=40, random_state=42)\n"
     ]
    },
    {
     "data": {
      "text/html": [
       "<div>\n",
       "<style scoped>\n",
       "    .dataframe tbody tr th:only-of-type {\n",
       "        vertical-align: middle;\n",
       "    }\n",
       "\n",
       "    .dataframe tbody tr th {\n",
       "        vertical-align: top;\n",
       "    }\n",
       "\n",
       "    .dataframe thead th {\n",
       "        text-align: right;\n",
       "    }\n",
       "</style>\n",
       "<table border=\"1\" class=\"dataframe\">\n",
       "  <thead>\n",
       "    <tr style=\"text-align: right;\">\n",
       "      <th></th>\n",
       "      <th>max_depth</th>\n",
       "      <th>MAPE</th>\n",
       "    </tr>\n",
       "  </thead>\n",
       "  <tbody>\n",
       "    <tr>\n",
       "      <th>3</th>\n",
       "      <td>36</td>\n",
       "      <td>13.762850</td>\n",
       "    </tr>\n",
       "    <tr>\n",
       "      <th>2</th>\n",
       "      <td>34</td>\n",
       "      <td>13.763397</td>\n",
       "    </tr>\n",
       "    <tr>\n",
       "      <th>0</th>\n",
       "      <td>30</td>\n",
       "      <td>13.763906</td>\n",
       "    </tr>\n",
       "    <tr>\n",
       "      <th>4</th>\n",
       "      <td>38</td>\n",
       "      <td>13.765097</td>\n",
       "    </tr>\n",
       "    <tr>\n",
       "      <th>5</th>\n",
       "      <td>40</td>\n",
       "      <td>13.766099</td>\n",
       "    </tr>\n",
       "    <tr>\n",
       "      <th>1</th>\n",
       "      <td>32</td>\n",
       "      <td>13.766455</td>\n",
       "    </tr>\n",
       "  </tbody>\n",
       "</table>\n",
       "</div>"
      ],
      "text/plain": [
       "   max_depth       MAPE\n",
       "3         36  13.762850\n",
       "2         34  13.763397\n",
       "0         30  13.763906\n",
       "4         38  13.765097\n",
       "5         40  13.766099\n",
       "1         32  13.766455"
      ]
     },
     "metadata": {},
     "output_type": "display_data"
    },
    {
     "data": {
      "image/png": "[encoded data removed]",
      "text/plain": [
       "<Figure size 864x432 with 1 Axes>"
      ]
     },
     "metadata": {
      "needs_background": "light"
     },
     "output_type": "display_data"
    }
   ],
   "source": [
    "model_fn = lambda param, value: RandomForestRegressor(**{param: value}, random_state=42)\n",
    "comparate_model_param(model_fn, 'max_depth', range(30, 42, 2))"
   ]
  },
  {
   "attachments": {},
   "cell_type": "markdown",
   "metadata": {},
   "source": [
    "> Se escoge a max_depth igual a 36"
   ]
  },
  {
   "attachments": {},
   "cell_type": "markdown",
   "metadata": {},
   "source": [
    "##### 2.3.1.2 max_features"
   ]
  },
  {
   "cell_type": "code",
   "execution_count": 107,
   "metadata": {},
   "outputs": [
    {
     "name": "stdout",
     "output_type": "stream",
     "text": [
      "RandomForestRegressor(max_depth=36, max_features=1, random_state=42)\n",
      "RandomForestRegressor(max_depth=36, max_features=2, random_state=42)\n",
      "RandomForestRegressor(max_depth=36, max_features=3, random_state=42)\n",
      "RandomForestRegressor(max_depth=36, max_features=4, random_state=42)\n",
      "RandomForestRegressor(max_depth=36, max_features=5, random_state=42)\n"
     ]
    },
    {
     "data": {
      "text/html": [
       "<div>\n",
       "<style scoped>\n",
       "    .dataframe tbody tr th:only-of-type {\n",
       "        vertical-align: middle;\n",
       "    }\n",
       "\n",
       "    .dataframe tbody tr th {\n",
       "        vertical-align: top;\n",
       "    }\n",
       "\n",
       "    .dataframe thead th {\n",
       "        text-align: right;\n",
       "    }\n",
       "</style>\n",
       "<table border=\"1\" class=\"dataframe\">\n",
       "  <thead>\n",
       "    <tr style=\"text-align: right;\">\n",
       "      <th></th>\n",
       "      <th>max_features</th>\n",
       "      <th>MAPE</th>\n",
       "    </tr>\n",
       "  </thead>\n",
       "  <tbody>\n",
       "    <tr>\n",
       "      <th>4</th>\n",
       "      <td>5</td>\n",
       "      <td>13.762850</td>\n",
       "    </tr>\n",
       "    <tr>\n",
       "      <th>3</th>\n",
       "      <td>4</td>\n",
       "      <td>14.005684</td>\n",
       "    </tr>\n",
       "    <tr>\n",
       "      <th>2</th>\n",
       "      <td>3</td>\n",
       "      <td>14.806034</td>\n",
       "    </tr>\n",
       "    <tr>\n",
       "      <th>1</th>\n",
       "      <td>2</td>\n",
       "      <td>16.374923</td>\n",
       "    </tr>\n",
       "    <tr>\n",
       "      <th>0</th>\n",
       "      <td>1</td>\n",
       "      <td>19.704498</td>\n",
       "    </tr>\n",
       "  </tbody>\n",
       "</table>\n",
       "</div>"
      ],
      "text/plain": [
       "   max_features       MAPE\n",
       "4             5  13.762850\n",
       "3             4  14.005684\n",
       "2             3  14.806034\n",
       "1             2  16.374923\n",
       "0             1  19.704498"
      ]
     },
     "metadata": {},
     "output_type": "display_data"
    },
    {
     "data": {
      "image/png": "[encoded data removed]",
      "text/plain": [
       "<Figure size 864x432 with 1 Axes>"
      ]
     },
     "metadata": {
      "needs_background": "light"
     },
     "output_type": "display_data"
    }
   ],
   "source": [
    "model_fn = lambda param, value: RandomForestRegressor(**{param: value}, max_depth=36, random_state=42)\n",
    "comparate_model_param(model_fn, 'max_features', range(1, len(X.columns)+1))"
   ]
  },
  {
   "attachments": {},
   "cell_type": "markdown",
   "metadata": {},
   "source": [
    "> max_features igual a 5"
   ]
  },
  {
   "attachments": {},
   "cell_type": "markdown",
   "metadata": {},
   "source": [
    "##### 2.3.1.3 max_features"
   ]
  },
  {
   "cell_type": "code",
   "execution_count": 108,
   "metadata": {},
   "outputs": [
    {
     "name": "stdout",
     "output_type": "stream",
     "text": [
      "RandomForestRegressor(max_depth=36, max_features=5, n_estimators=50,\n",
      "                      random_state=42)\n",
      "RandomForestRegressor(max_depth=36, max_features=5, random_state=42)\n",
      "RandomForestRegressor(max_depth=36, max_features=5, n_estimators=150,\n",
      "                      random_state=42)\n",
      "RandomForestRegressor(max_depth=36, max_features=5, n_estimators=200,\n",
      "                      random_state=42)\n",
      "RandomForestRegressor(max_depth=36, max_features=5, n_estimators=250,\n",
      "                      random_state=42)\n",
      "RandomForestRegressor(max_depth=36, max_features=5, n_estimators=300,\n",
      "                      random_state=42)\n",
      "RandomForestRegressor(max_depth=36, max_features=5, n_estimators=350,\n",
      "                      random_state=42)\n",
      "RandomForestRegressor(max_depth=36, max_features=5, n_estimators=400,\n",
      "                      random_state=42)\n",
      "RandomForestRegressor(max_depth=36, max_features=5, n_estimators=450,\n",
      "                      random_state=42)\n",
      "RandomForestRegressor(max_depth=36, max_features=5, n_estimators=500,\n",
      "                      random_state=42)\n",
      "RandomForestRegressor(max_depth=36, max_features=5, n_estimators=550,\n",
      "                      random_state=42)\n"
     ]
    },
    {
     "data": {
      "text/html": [
       "<div>\n",
       "<style scoped>\n",
       "    .dataframe tbody tr th:only-of-type {\n",
       "        vertical-align: middle;\n",
       "    }\n",
       "\n",
       "    .dataframe tbody tr th {\n",
       "        vertical-align: top;\n",
       "    }\n",
       "\n",
       "    .dataframe thead th {\n",
       "        text-align: right;\n",
       "    }\n",
       "</style>\n",
       "<table border=\"1\" class=\"dataframe\">\n",
       "  <thead>\n",
       "    <tr style=\"text-align: right;\">\n",
       "      <th></th>\n",
       "      <th>n_estimators</th>\n",
       "      <th>MAPE</th>\n",
       "    </tr>\n",
       "  </thead>\n",
       "  <tbody>\n",
       "    <tr>\n",
       "      <th>9</th>\n",
       "      <td>500</td>\n",
       "      <td>13.673694</td>\n",
       "    </tr>\n",
       "    <tr>\n",
       "      <th>10</th>\n",
       "      <td>550</td>\n",
       "      <td>13.673881</td>\n",
       "    </tr>\n",
       "    <tr>\n",
       "      <th>8</th>\n",
       "      <td>450</td>\n",
       "      <td>13.674966</td>\n",
       "    </tr>\n",
       "    <tr>\n",
       "      <th>7</th>\n",
       "      <td>400</td>\n",
       "      <td>13.674975</td>\n",
       "    </tr>\n",
       "    <tr>\n",
       "      <th>6</th>\n",
       "      <td>350</td>\n",
       "      <td>13.678434</td>\n",
       "    </tr>\n",
       "    <tr>\n",
       "      <th>5</th>\n",
       "      <td>300</td>\n",
       "      <td>13.685721</td>\n",
       "    </tr>\n",
       "    <tr>\n",
       "      <th>4</th>\n",
       "      <td>250</td>\n",
       "      <td>13.689665</td>\n",
       "    </tr>\n",
       "    <tr>\n",
       "      <th>3</th>\n",
       "      <td>200</td>\n",
       "      <td>13.696293</td>\n",
       "    </tr>\n",
       "    <tr>\n",
       "      <th>2</th>\n",
       "      <td>150</td>\n",
       "      <td>13.711792</td>\n",
       "    </tr>\n",
       "    <tr>\n",
       "      <th>1</th>\n",
       "      <td>100</td>\n",
       "      <td>13.762850</td>\n",
       "    </tr>\n",
       "  </tbody>\n",
       "</table>\n",
       "</div>"
      ],
      "text/plain": [
       "    n_estimators       MAPE\n",
       "9            500  13.673694\n",
       "10           550  13.673881\n",
       "8            450  13.674966\n",
       "7            400  13.674975\n",
       "6            350  13.678434\n",
       "5            300  13.685721\n",
       "4            250  13.689665\n",
       "3            200  13.696293\n",
       "2            150  13.711792\n",
       "1            100  13.762850"
      ]
     },
     "metadata": {},
     "output_type": "display_data"
    },
    {
     "data": {
      "image/png": "[encoded data removed]",
      "text/plain": [
       "<Figure size 864x432 with 1 Axes>"
      ]
     },
     "metadata": {
      "needs_background": "light"
     },
     "output_type": "display_data"
    }
   ],
   "source": [
    "model_fn = lambda param, value: RandomForestRegressor(**{param: value}, max_features=5, max_depth=36, random_state=42)\n",
    "comparate_model_param(model_fn, 'n_estimators', range(50, 600, 50))"
   ]
  },
  {
   "cell_type": "code",
   "execution_count": 110,
   "metadata": {},
   "outputs": [
    {
     "name": "stdout",
     "output_type": "stream",
     "text": [
      "RandomForestRegressor(max_depth=36, max_features=5, n_estimators=500,\n",
      "                      random_state=42)\n",
      "RandomForestRegressor(max_depth=36, max_features=5, n_estimators=600,\n",
      "                      random_state=42)\n",
      "RandomForestRegressor(max_depth=36, max_features=5, n_estimators=700,\n",
      "                      random_state=42)\n",
      "RandomForestRegressor(max_depth=36, max_features=5, n_estimators=800,\n",
      "                      random_state=42)\n",
      "RandomForestRegressor(max_depth=36, max_features=5, n_estimators=900,\n",
      "                      random_state=42)\n",
      "RandomForestRegressor(max_depth=36, max_features=5, n_estimators=1000,\n",
      "                      random_state=42)\n",
      "RandomForestRegressor(max_depth=36, max_features=5, n_estimators=1100,\n",
      "                      random_state=42)\n",
      "RandomForestRegressor(max_depth=36, max_features=5, n_estimators=1200,\n",
      "                      random_state=42)\n"
     ]
    },
    {
     "data": {
      "text/html": [
       "<div>\n",
       "<style scoped>\n",
       "    .dataframe tbody tr th:only-of-type {\n",
       "        vertical-align: middle;\n",
       "    }\n",
       "\n",
       "    .dataframe tbody tr th {\n",
       "        vertical-align: top;\n",
       "    }\n",
       "\n",
       "    .dataframe thead th {\n",
       "        text-align: right;\n",
       "    }\n",
       "</style>\n",
       "<table border=\"1\" class=\"dataframe\">\n",
       "  <thead>\n",
       "    <tr style=\"text-align: right;\">\n",
       "      <th></th>\n",
       "      <th>n_estimators</th>\n",
       "      <th>MAPE</th>\n",
       "    </tr>\n",
       "  </thead>\n",
       "  <tbody>\n",
       "    <tr>\n",
       "      <th>7</th>\n",
       "      <td>1200</td>\n",
       "      <td>13.662220</td>\n",
       "    </tr>\n",
       "    <tr>\n",
       "      <th>6</th>\n",
       "      <td>1100</td>\n",
       "      <td>13.666863</td>\n",
       "    </tr>\n",
       "    <tr>\n",
       "      <th>5</th>\n",
       "      <td>1000</td>\n",
       "      <td>13.669314</td>\n",
       "    </tr>\n",
       "    <tr>\n",
       "      <th>4</th>\n",
       "      <td>900</td>\n",
       "      <td>13.669347</td>\n",
       "    </tr>\n",
       "    <tr>\n",
       "      <th>2</th>\n",
       "      <td>700</td>\n",
       "      <td>13.670066</td>\n",
       "    </tr>\n",
       "    <tr>\n",
       "      <th>3</th>\n",
       "      <td>800</td>\n",
       "      <td>13.670154</td>\n",
       "    </tr>\n",
       "    <tr>\n",
       "      <th>1</th>\n",
       "      <td>600</td>\n",
       "      <td>13.670546</td>\n",
       "    </tr>\n",
       "    <tr>\n",
       "      <th>0</th>\n",
       "      <td>500</td>\n",
       "      <td>13.673694</td>\n",
       "    </tr>\n",
       "  </tbody>\n",
       "</table>\n",
       "</div>"
      ],
      "text/plain": [
       "   n_estimators       MAPE\n",
       "7          1200  13.662220\n",
       "6          1100  13.666863\n",
       "5          1000  13.669314\n",
       "4           900  13.669347\n",
       "2           700  13.670066\n",
       "3           800  13.670154\n",
       "1           600  13.670546\n",
       "0           500  13.673694"
      ]
     },
     "metadata": {},
     "output_type": "display_data"
    },
    {
     "data": {
      "image/png": "[encoded data removed]",
      "text/plain": [
       "<Figure size 864x432 with 1 Axes>"
      ]
     },
     "metadata": {
      "needs_background": "light"
     },
     "output_type": "display_data"
    }
   ],
   "source": [
    "model_fn = lambda param, value: RandomForestRegressor(**{param: value}, max_features=5, max_depth=36, random_state=42)\n",
    "comparate_model_param(model_fn, 'n_estimators', range(500, 1300, 100))"
   ]
  },
  {
   "cell_type": "code",
   "execution_count": 111,
   "metadata": {},
   "outputs": [
    {
     "name": "stdout",
     "output_type": "stream",
     "text": [
      "RandomForestRegressor(max_depth=36, max_features=5, n_estimators=1200,\n",
      "                      random_state=42)\n",
      "RandomForestRegressor(max_depth=36, max_features=5, n_estimators=1300,\n",
      "                      random_state=42)\n",
      "RandomForestRegressor(max_depth=36, max_features=5, n_estimators=1400,\n",
      "                      random_state=42)\n",
      "RandomForestRegressor(max_depth=36, max_features=5, n_estimators=1500,\n",
      "                      random_state=42)\n",
      "RandomForestRegressor(max_depth=36, max_features=5, n_estimators=1600,\n",
      "                      random_state=42)\n",
      "RandomForestRegressor(max_depth=36, max_features=5, n_estimators=1700,\n",
      "                      random_state=42)\n",
      "RandomForestRegressor(max_depth=36, max_features=5, n_estimators=1800,\n",
      "                      random_state=42)\n",
      "RandomForestRegressor(max_depth=36, max_features=5, n_estimators=1900,\n",
      "                      random_state=42)\n",
      "RandomForestRegressor(max_depth=36, max_features=5, n_estimators=2000,\n",
      "                      random_state=42)\n"
     ]
    },
    {
     "data": {
      "text/html": [
       "<div>\n",
       "<style scoped>\n",
       "    .dataframe tbody tr th:only-of-type {\n",
       "        vertical-align: middle;\n",
       "    }\n",
       "\n",
       "    .dataframe tbody tr th {\n",
       "        vertical-align: top;\n",
       "    }\n",
       "\n",
       "    .dataframe thead th {\n",
       "        text-align: right;\n",
       "    }\n",
       "</style>\n",
       "<table border=\"1\" class=\"dataframe\">\n",
       "  <thead>\n",
       "    <tr style=\"text-align: right;\">\n",
       "      <th></th>\n",
       "      <th>n_estimators</th>\n",
       "      <th>MAPE</th>\n",
       "    </tr>\n",
       "  </thead>\n",
       "  <tbody>\n",
       "    <tr>\n",
       "      <th>6</th>\n",
       "      <td>1800</td>\n",
       "      <td>13.658731</td>\n",
       "    </tr>\n",
       "    <tr>\n",
       "      <th>8</th>\n",
       "      <td>2000</td>\n",
       "      <td>13.658905</td>\n",
       "    </tr>\n",
       "    <tr>\n",
       "      <th>7</th>\n",
       "      <td>1900</td>\n",
       "      <td>13.658981</td>\n",
       "    </tr>\n",
       "    <tr>\n",
       "      <th>5</th>\n",
       "      <td>1700</td>\n",
       "      <td>13.659248</td>\n",
       "    </tr>\n",
       "    <tr>\n",
       "      <th>4</th>\n",
       "      <td>1600</td>\n",
       "      <td>13.660097</td>\n",
       "    </tr>\n",
       "    <tr>\n",
       "      <th>2</th>\n",
       "      <td>1400</td>\n",
       "      <td>13.660178</td>\n",
       "    </tr>\n",
       "    <tr>\n",
       "      <th>1</th>\n",
       "      <td>1300</td>\n",
       "      <td>13.660774</td>\n",
       "    </tr>\n",
       "    <tr>\n",
       "      <th>3</th>\n",
       "      <td>1500</td>\n",
       "      <td>13.661688</td>\n",
       "    </tr>\n",
       "    <tr>\n",
       "      <th>0</th>\n",
       "      <td>1200</td>\n",
       "      <td>13.662220</td>\n",
       "    </tr>\n",
       "  </tbody>\n",
       "</table>\n",
       "</div>"
      ],
      "text/plain": [
       "   n_estimators       MAPE\n",
       "6          1800  13.658731\n",
       "8          2000  13.658905\n",
       "7          1900  13.658981\n",
       "5          1700  13.659248\n",
       "4          1600  13.660097\n",
       "2          1400  13.660178\n",
       "1          1300  13.660774\n",
       "3          1500  13.661688\n",
       "0          1200  13.662220"
      ]
     },
     "metadata": {},
     "output_type": "display_data"
    },
    {
     "data": {
      "image/png": "[encoded data removed]",
      "text/plain": [
       "<Figure size 864x432 with 1 Axes>"
      ]
     },
     "metadata": {
      "needs_background": "light"
     },
     "output_type": "display_data"
    }
   ],
   "source": [
    "model_fn = lambda param, value: RandomForestRegressor(**{param: value}, max_features=5, max_depth=36, random_state=42)\n",
    "comparate_model_param(model_fn, 'n_estimators', range(1200, 2100, 100))"
   ]
  },
  {
   "attachments": {},
   "cell_type": "markdown",
   "metadata": {},
   "source": [
    "> max_features igual a 200 y 1800"
   ]
  },
  {
   "cell_type": "code",
   "execution_count": 112,
   "metadata": {},
   "outputs": [
    {
     "data": {
      "text/plain": [
       "{'Name': 'final rf model',\n",
       " 'MAPE': 11.878120555067053,\n",
       " 'MSE': 14339493.602986204,\n",
       " 'R2': 0.8760581283725826}"
      ]
     },
     "execution_count": 112,
     "metadata": {},
     "output_type": "execute_result"
    }
   ],
   "source": [
    "final_rf_model1 = RandomForestRegressor(n_estimators=200, max_features=5, max_depth=36, random_state=42)\n",
    "final_rf_model1.fit(X_train_processed, y_train)\n",
    "evaluate_model(final_rf_model1, X_val_processed, 'final rf model')"
   ]
  },
  {
   "cell_type": "code",
   "execution_count": 113,
   "metadata": {},
   "outputs": [
    {
     "data": {
      "text/plain": [
       "{'Name': 'final rf model',\n",
       " 'MAPE': 11.859626968619608,\n",
       " 'MSE': 14290525.790919797,\n",
       " 'R2': 0.8764813763927042}"
      ]
     },
     "execution_count": 113,
     "metadata": {},
     "output_type": "execute_result"
    }
   ],
   "source": [
    "final_rf_model = RandomForestRegressor(n_estimators=1800, max_features=5, max_depth=36, random_state=42)\n",
    "final_rf_model.fit(X_train_processed, y_train)\n",
    "evaluate_model(final_rf_model, X_val_processed, 'final rf model')"
   ]
  },
  {
   "cell_type": "code",
   "execution_count": null,
   "metadata": {},
   "outputs": [],
   "source": []
  },
  {
   "cell_type": "markdown",
   "metadata": {},
   "source": [
    "## 3. Disponibilización del modelo (30 puntos)"
   ]
  },
  {
   "cell_type": "markdown",
   "metadata": {},
   "source": [
    "* Se disponibiliza el modelo en una API alojada en un servicio en la nube. (20 puntos)\n",
    "\n",
    "* Se hacen las predicciones sobre el valor del automóvil en al menos dos observaciones del set de validación. (10 puntos)"
   ]
  },
  {
   "cell_type": "markdown",
   "metadata": {},
   "source": [
    "## 4. Conclusiones (10 puntos)"
   ]
  },
  {
   "cell_type": "markdown",
   "metadata": {},
   "source": [
    "* Se presentan conclusiones claras y concisas sobre el desarrollo y los resultados del proyecto. (10 puntos)"
   ]
  }
 ],
 "metadata": {
  "kernelspec": {
   "display_name": "Python 3 (ipykernel)",
   "language": "python",
   "name": "python3"
  },
  "language_info": {
   "codemirror_mode": {
    "name": "ipython",
    "version": 3
   },
   "file_extension": ".py",
   "mimetype": "text/x-python",
   "name": "python",
   "nbconvert_exporter": "python",
   "pygments_lexer": "ipython3",
   "version": "3.9.12"
  }
 },
 "nbformat": 4,
 "nbformat_minor": 4
}
