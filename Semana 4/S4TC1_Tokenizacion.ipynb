{
 "cells": [
  {
   "cell_type": "markdown",
   "metadata": {},
   "source": [
    "![image info](https://raw.githubusercontent.com/albahnsen/MIAD_ML_and_NLP/main/images/banner_1.png)"
   ]
  },
  {
   "cell_type": "markdown",
   "metadata": {},
   "source": [
    "# Taller: Tokenización de textos  \n",
    "\n",
    "En este taller podrán poner en práctica sus conocimientos sobre preprocesamiento de texto (tokenización). El taller está constituido por 5 puntos, en los cuales deberan seguir las intrucciones de cada numeral para su desarrollo."
   ]
  },
  {
   "cell_type": "markdown",
   "metadata": {},
   "source": [
    "## Datos detección de toxicidad en comentarios\n",
    "\n",
    "En este taller se usará el conjunto de datos de detección de toxicidad en comentarios de la base de datos de Kaggle. Cada observación es un comentario que tiene como variable objetivo (target) la probabilidad de ser un comentario tóxico. El objetivo es predecir la toxicidad de cada comentario. Para más detalles pueden visitar el siguiente enlace: [datos](https://www.kaggle.com/c/jigsaw-unintended-bias-in-toxicity-classification/data)."
   ]
  },
  {
   "cell_type": "code",
   "execution_count": 1,
   "metadata": {},
   "outputs": [],
   "source": [
    "import warnings\n",
    "warnings.filterwarnings('ignore')"
   ]
  },
  {
   "cell_type": "code",
   "execution_count": 40,
   "metadata": {},
   "outputs": [],
   "source": [
    "# Importación librerías\n",
    "import pandas as pd\n",
    "import numpy as np\n",
    "import scipy as sp\n",
    "from sklearn.model_selection import train_test_split, cross_val_score\n",
    "from sklearn.feature_extraction.text import CountVectorizer, TfidfVectorizer\n",
    "from sklearn import metrics\n",
    "\n",
    "from xgboost import XGBRegressor\n",
    "\n",
    "import matplotlib.pyplot as plt\n",
    "import seaborn as sns\n",
    "\n",
    "%matplotlib inline"
   ]
  },
  {
   "cell_type": "code",
   "execution_count": 3,
   "metadata": {},
   "outputs": [
    {
     "data": {
      "text/html": [
       "<div>\n",
       "<style scoped>\n",
       "    .dataframe tbody tr th:only-of-type {\n",
       "        vertical-align: middle;\n",
       "    }\n",
       "\n",
       "    .dataframe tbody tr th {\n",
       "        vertical-align: top;\n",
       "    }\n",
       "\n",
       "    .dataframe thead th {\n",
       "        text-align: right;\n",
       "    }\n",
       "</style>\n",
       "<table border=\"1\" class=\"dataframe\">\n",
       "  <thead>\n",
       "    <tr style=\"text-align: right;\">\n",
       "      <th></th>\n",
       "      <th>id</th>\n",
       "      <th>comment_text</th>\n",
       "      <th>target</th>\n",
       "    </tr>\n",
       "  </thead>\n",
       "  <tbody>\n",
       "    <tr>\n",
       "      <th>0</th>\n",
       "      <td>6101457</td>\n",
       "      <td>What are you talking about? What group do Pete...</td>\n",
       "      <td>0.0</td>\n",
       "    </tr>\n",
       "    <tr>\n",
       "      <th>1</th>\n",
       "      <td>5342103</td>\n",
       "      <td>NO!, Let him, we need a Conservative government.</td>\n",
       "      <td>0.0</td>\n",
       "    </tr>\n",
       "    <tr>\n",
       "      <th>2</th>\n",
       "      <td>743361</td>\n",
       "      <td>Perhaps he took the \"power out of the Cardinal...</td>\n",
       "      <td>0.2</td>\n",
       "    </tr>\n",
       "    <tr>\n",
       "      <th>3</th>\n",
       "      <td>551008</td>\n",
       "      <td>As always, yours is dripping with sarcasm, whi...</td>\n",
       "      <td>0.0</td>\n",
       "    </tr>\n",
       "    <tr>\n",
       "      <th>4</th>\n",
       "      <td>865998</td>\n",
       "      <td>The dirty little secret is that the price rang...</td>\n",
       "      <td>0.3</td>\n",
       "    </tr>\n",
       "  </tbody>\n",
       "</table>\n",
       "</div>"
      ],
      "text/plain": [
       "        id                                       comment_text  target\n",
       "0  6101457  What are you talking about? What group do Pete...     0.0\n",
       "1  5342103   NO!, Let him, we need a Conservative government.     0.0\n",
       "2   743361  Perhaps he took the \"power out of the Cardinal...     0.2\n",
       "3   551008  As always, yours is dripping with sarcasm, whi...     0.0\n",
       "4   865998  The dirty little secret is that the price rang...     0.3"
      ]
     },
     "execution_count": 3,
     "metadata": {},
     "output_type": "execute_result"
    }
   ],
   "source": [
    "# Carga de datos de archivos .csv\n",
    "df = pd.read_csv('https://raw.githubusercontent.com/albahnsen/MIAD_ML_and_NLP/main/datasets/Toxicity.zip')\n",
    "df = df[['id','comment_text', 'target']]\n",
    "df.head()"
   ]
  },
  {
   "cell_type": "code",
   "execution_count": 4,
   "metadata": {},
   "outputs": [
    {
     "data": {
      "text/plain": [
       "<AxesSubplot:>"
      ]
     },
     "execution_count": 4,
     "metadata": {},
     "output_type": "execute_result"
    },
    {
     "data": {
      "image/png": "[encoded data removed]",
      "text/plain": [
       "<Figure size 432x288 with 1 Axes>"
      ]
     },
     "metadata": {
      "needs_background": "light"
     },
     "output_type": "display_data"
    }
   ],
   "source": [
    "# Impresión histograma de variable de interés (y)\n",
    "df.target.hist()"
   ]
  },
  {
   "cell_type": "code",
   "execution_count": 24,
   "metadata": {},
   "outputs": [
    {
     "data": {
      "text/plain": [
       "count    541462.000000\n",
       "mean          0.102991\n",
       "std           0.196979\n",
       "min           0.000000\n",
       "25%           0.000000\n",
       "50%           0.000000\n",
       "75%           0.166667\n",
       "max           1.000000\n",
       "Name: target, dtype: float64"
      ]
     },
     "execution_count": 24,
     "metadata": {},
     "output_type": "execute_result"
    }
   ],
   "source": [
    "# Separación de variable de interés (y)\n",
    "y = df.target\n",
    "y.describe()"
   ]
  },
  {
   "cell_type": "code",
   "execution_count": 6,
   "metadata": {},
   "outputs": [],
   "source": [
    "# Separación de variables predictoras (X), solo se considera el texto de la noticia\n",
    "X = df.comment_text"
   ]
  },
  {
   "cell_type": "code",
   "execution_count": 7,
   "metadata": {},
   "outputs": [],
   "source": [
    "# Separación de datos en set de entrenamiento y test\n",
    "X_train, X_test, y_train, y_test = train_test_split(X, y, test_size=0.33, random_state=42)"
   ]
  },
  {
   "cell_type": "markdown",
   "metadata": {},
   "source": [
    "## Punto 1 - Tokenización con CountVectorizer\n",
    "\n",
    "En la celda 1 creen y entrenen el modelo de regresión de su preferencia, para que prediga la probabilidad de que un comentario sea tóxico, usando los set de entrenamiento y test definidos anteriormente. Usen la función **CountVectorizer** para preprocesar los comentarios y presenten el desempeño del modelo con la métrica del MSE.\n",
    "\n",
    "Recuerden que el preprocesamiento que se haga sobre los datos de entrenamiento  (*.fit_transform()*) deben ser aplicado al set de test (*.transform()*)."
   ]
  },
  {
   "cell_type": "code",
   "execution_count": 35,
   "metadata": {},
   "outputs": [
    {
     "name": "stdout",
     "output_type": "stream",
     "text": [
      "MSE: 0.0216784577144372\n"
     ]
    }
   ],
   "source": [
    "# Celda 1\n",
    "vect_A = CountVectorizer(lowercase=False)\n",
    "X_dtm_A = vect_A.fit_transform(X_train)\n",
    "X_test_dtm_A = vect_A.transform(X_test)\n",
    "\n",
    "xgb_model_A = XGBRegressor(random_state=42)\n",
    "xgb_model_A.fit(X_dtm_A, y_train)\n",
    "\n",
    "y_pred = xgb_model_A.predict(X_test_dtm_A)\n",
    "mse_A = metrics.mean_squared_error(y_test, y_pred)\n",
    "print(f'MSE: {mse_A}')\n",
    "\n"
   ]
  },
  {
   "cell_type": "markdown",
   "metadata": {},
   "source": [
    "## Punto 2 - Tokenización con CountVectorizer y trigramas\n",
    "\n",
    "En la celda 2 creen y entrenen el mismo modelo de regresión del punto anterior (es decir si usaron un RandomForestRegresor usen nuevamente ese regresor), para que prediga la probabilidad de que un comentario sea tóxico, usando los set de entrenamiento y test definidos anteriormente. Usen la función CountVectorizer **considerando trigramas** para preprocesar los comentarios y presenten el desempeño del modelo con la métrica del MSE.\n",
    "\n",
    "Recuerden que el preprocesamiento que se haga sobre los datos de entrenamiento  (*.fit_transform()*) deben ser aplicado al set de test (*.transform()*)."
   ]
  },
  {
   "cell_type": "code",
   "execution_count": 38,
   "metadata": {},
   "outputs": [
    {
     "name": "stdout",
     "output_type": "stream",
     "text": [
      "MSE: 0.03693620036009387\n"
     ]
    }
   ],
   "source": [
    "# Celda 2\n",
    "vect_B = CountVectorizer(lowercase=False, ngram_range=(3, 3))\n",
    "X_dtm_B = vect_B.fit_transform(X_train)\n",
    "X_test_dtm_B = vect_B.transform(X_test)\n",
    "\n",
    "xgb_model_B = XGBRegressor(random_state=42)\n",
    "xgb_model_B.fit(X_dtm_B, y_train)\n",
    "\n",
    "y_pred = xgb_model_B.predict(X_test_dtm_B)\n",
    "mse_B = metrics.mean_squared_error(y_test, y_pred)\n",
    "print(f'MSE: {mse_B}')"
   ]
  },
  {
   "cell_type": "markdown",
   "metadata": {},
   "source": [
    "## Punto 3 - TfidfVectorizer\n",
    "\n",
    "Investigen sobre la función TfidfVectorizer. En la celda de texto 3, expliquen en qué consiste esta técnica de tokenización (describanla y expliquen su funcionamiento) y cúales son las ventajas o deventajas de su uso al compararlo con la función CountVectorizer."
   ]
  },
  {
   "cell_type": "code",
   "execution_count": null,
   "metadata": {},
   "outputs": [],
   "source": [
    "#Celda 3\n"
   ]
  },
  {
   "attachments": {},
   "cell_type": "markdown",
   "metadata": {},
   "source": [
    " La función **TfidfVectorizer** es una técnica de tokenización y ponderación que se utiliza en el preprocesamiento de texto en tareas de NLP. Esta función convierte una colección de documentos de texto en una matriz numérica utilizando la medida TF-IDF (Term Frequency-Inverse Document Frequency) para representar la importancia de cada palabra en un documento con respecto a toda la colección de documentos. El proceso generalmente consta de los siguientes pasos:\n",
    "\n",
    "1. Tokenización: Divide los documentos en palabras o \"tokens\" y crea un vocabulario.\n",
    "2. Cálculo de la frecuencia de término (TF): Cuenta la frecuencia de cada palabra en cada documento.\n",
    "3. Cálculo de la frecuencia inversa de documento (IDF): Mide cuán común es una palabra en todos los documentos de la colección.\n",
    "4. Cálculo de TF-IDF: Combina las medidas TF e IDF en un solo valor.\n",
    "5. Generación de la matriz numérica: Utiliza los valores de TF-IDF para representar cada documento como un vector numérico.\n",
    "6. Al comparar TfidfVectorizer con CountVectorizer, se pueden identificar algunas ventajas y desventajas:\n",
    "\n",
    "**Ventajas de TfidfVectorizer:**\n",
    "\n",
    "* Proporciona una representación numérica más informativa al tener en cuenta la importancia de las palabras en toda la colección de documentos.\n",
    "* Reduce la influencia de palabras comunes o \"stop words\" que tienen poca importancia en la diferenciación de documentos.\n",
    "* Mejora el rendimiento en algunas tareas de NLP, como la clasificación de texto o la recuperación de información, al asignar más importancia a las palabras relevantes.\n",
    "\n",
    "**Desventajas de TfidfVectorizer:**\n",
    "\n",
    "* La complejidad computacional es ligeramente mayor en comparación con CountVectorizer debido al cálculo adicional de IDF.\n",
    "* Puede ser menos efectivo en conjuntos de datos muy pequeños o en tareas en las que las palabras comunes son igualmente importantes que las palabras menos comunes."
   ]
  },
  {
   "cell_type": "markdown",
   "metadata": {},
   "source": [
    "## Punto 4 - Tokenización con TfidfVectorizer\n",
    "\n",
    "En la celda 4 creen y entrenen el mismo modelo de regresión del primer punto, para que prediga la probabilidad de que un comentario sea tóxico, usando los set de entrenamiento y test definidos anteriormente. Procesen los comentarios con la función **TfidfVectorizer** y presenten el desempeño del modelo con la métrica del MSE.\n",
    "\n",
    "Recuerden que el preprocesamiento que se haga sobre los datos de entrenamiento  (*.fit_transform()*) deben ser aplicado al set de test (*.transform()*)."
   ]
  },
  {
   "cell_type": "code",
   "execution_count": 39,
   "metadata": {},
   "outputs": [
    {
     "name": "stdout",
     "output_type": "stream",
     "text": [
      "MSE C: 0.02145565867434081\n",
      "MSE C: 0.03688018166290631\n"
     ]
    }
   ],
   "source": [
    "# Celda 4\n",
    "vect_C = TfidfVectorizer(lowercase=False)\n",
    "X_dtm_C = vect_C.fit_transform(X_train)\n",
    "X_test_dtm_C = vect_C.transform(X_test)\n",
    "\n",
    "xgb_model_C = XGBRegressor(random_state=42)\n",
    "xgb_model_C.fit(X_dtm_C, y_train)\n",
    "\n",
    "y_pred = xgb_model_C.predict(X_test_dtm_C)\n",
    "mse_C = metrics.mean_squared_error(y_test, y_pred)\n",
    "print(f'MSE C: {mse_C}')\n",
    "\n",
    "\n",
    "# Usando un triagrama\n",
    "vect_D = TfidfVectorizer(lowercase=False, ngram_range=(3, 3))\n",
    "X_dtm_D = vect_D.fit_transform(X_train)\n",
    "X_test_dtm_D = vect_D.transform(X_test)\n",
    "\n",
    "xgb_model_D = XGBRegressor(random_state=42)\n",
    "xgb_model_D.fit(X_dtm_D, y_train)\n",
    "\n",
    "y_pred = xgb_model_D.predict(X_test_dtm_D)\n",
    "mse_D = metrics.mean_squared_error(y_test, y_pred)\n",
    "print(f'MSE D: {mse_D}')"
   ]
  },
  {
   "cell_type": "markdown",
   "metadata": {},
   "source": [
    "## Punto 5 - Comparación y análisis de resultados\n",
    "\n",
    "En la celda 5 comparen los resultados obtenidos de los diferentes modelos y comenten cómo el preprocesamiento de texto afecta el desempeño."
   ]
  },
  {
   "cell_type": "code",
   "execution_count": 46,
   "metadata": {},
   "outputs": [
    {
     "data": {
      "image/png": "[encoded data removed]",
      "text/plain": [
       "<Figure size 432x288 with 1 Axes>"
      ]
     },
     "metadata": {
      "needs_background": "light"
     },
     "output_type": "display_data"
    }
   ],
   "source": [
    "# Celda 5\n",
    "fig, ax = plt.subplots()\n",
    "\n",
    "mse_list = [mse_A, mse_B, mse_C, mse_D]\n",
    "labels = ['CountVectorizer', 'CountVectorizer - Triagrama', 'TfidfVectorizer', 'TfidfVectorizer - Triagrama']\n",
    "\n",
    "sns.barplot(x=labels, y=mse_list, ax=ax)\n",
    "\n",
    "for i in range(len(labels)):\n",
    "    ax.annotate(str(round(mse_list[i], 3)), xy=(i, mse_list[i]), ha='center', va='bottom')\n",
    "\n",
    "\n",
    "plt.xlabel('Vectorizador')\n",
    "plt.ylabel('MSE')\n",
    "ax.set_xticklabels(labels, rotation=30)\n",
    "\n",
    "plt.show()"
   ]
  },
  {
   "cell_type": "code",
   "execution_count": null,
   "metadata": {},
   "outputs": [],
   "source": []
  }
 ],
 "metadata": {
  "kernelspec": {
   "display_name": "Python 3 (ipykernel)",
   "language": "python",
   "name": "python3"
  },
  "language_info": {
   "codemirror_mode": {
    "name": "ipython",
    "version": 3
   },
   "file_extension": ".py",
   "mimetype": "text/x-python",
   "name": "python",
   "nbconvert_exporter": "python",
   "pygments_lexer": "ipython3",
   "version": "3.9.12"
  },
  "name": "_merged"
 },
 "nbformat": 4,
 "nbformat_minor": 4
}
